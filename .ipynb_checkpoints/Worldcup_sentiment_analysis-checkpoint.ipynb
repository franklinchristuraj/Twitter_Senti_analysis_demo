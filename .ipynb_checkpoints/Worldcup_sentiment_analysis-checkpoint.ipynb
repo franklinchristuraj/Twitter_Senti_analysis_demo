{
 "cells": [
  {
   "cell_type": "code",
   "execution_count": 3,
   "metadata": {},
   "outputs": [],
   "source": [
    "import tweepy\n",
    "from textblob import TextBlob\n",
    "\n",
    "consumer_key = '6essTU8LExOdIopQMvmUqwcuF'\n",
    "consumer_secret = 'kpHDU8HmMfZ0KeUFoaeieKa8BHXjPbbo97VgXwkNdWtyHj0JZO'\n",
    "\n",
    "access_token = '2356359788-h8fy1sDs0faVQ6CMFwRzIJcRE9Lng0CnLrPFmC0'\n",
    "access_token_secret = 'wi54ZO3yIiJfA5j1LOhd76tuqUKS95VMfmCpMfK7zXFyO'\n",
    "\n",
    "auth = tweepy.OAuthHandler(consumer_key, consumer_secret)\n",
    "auth.set_access_token(access_token, access_token_secret)\n",
    "\n",
    "api = tweepy.API(auth)"
   ]
  },
  {
   "cell_type": "code",
   "execution_count": null,
   "metadata": {
    "collapsed": true
   },
   "outputs": [],
   "source": []
  }
 ],
 "metadata": {
  "kernelspec": {
   "display_name": "Python 3",
   "language": "python",
   "name": "python3"
  },
  "language_info": {
   "codemirror_mode": {
    "name": "ipython",
    "version": 3
   },
   "file_extension": ".py",
   "mimetype": "text/x-python",
   "name": "python",
   "nbconvert_exporter": "python",
   "pygments_lexer": "ipython3",
   "version": "3.6.3"
  }
 },
 "nbformat": 4,
 "nbformat_minor": 2
}
