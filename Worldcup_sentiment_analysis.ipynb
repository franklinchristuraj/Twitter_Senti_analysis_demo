{
 "cells": [
  {
   "cell_type": "code",
   "execution_count": 3,
   "metadata": {},
   "outputs": [],
   "source": [
    "import tweepy\n",
    "from textblob import TextBlob\n",
    "\n",
    "consumer_key = '6essTU8LExOdIopQMvmUqwcuF'\n",
    "consumer_secret = 'kpHDU8HmMfZ0KeUFoaeieKa8BHXjPbbo97VgXwkNdWtyHj0JZO'\n",
    "\n",
    "access_token = '2356359788-h8fy1sDs0faVQ6CMFwRzIJcRE9Lng0CnLrPFmC0'\n",
    "access_token_secret = 'wi54ZO3yIiJfA5j1LOhd76tuqUKS95VMfmCpMfK7zXFyO'\n",
    "\n",
    "auth = tweepy.OAuthHandler(consumer_key, consumer_secret)\n",
    "auth.set_access_token(access_token, access_token_secret)\n",
    "\n",
    "api = tweepy.API(auth)"
   ]
  },
  {
   "cell_type": "code",
   "execution_count": 4,
   "metadata": {},
   "outputs": [
    {
     "name": "stdout",
     "output_type": "stream",
     "text": [
      "RT @FIFAWorldCup: On Saturday, @hazardeden10 scored from the penalty spot to win the @EmiratesFACup for @ChelseaFC!🏆\n",
      "\n",
      "Will we see him play…\n",
      "Sentiment(polarity=0.8, subjectivity=0.4)\n",
      "RT @FIFAWorldCup: The first of our semi-finals sees two South American giants clash...\n",
      "\n",
      "🇦🇷@Argentina's champions from 1986?\n",
      "OR\n",
      "🇺🇾@Uruguay's…\n",
      "Sentiment(polarity=0.125, subjectivity=0.16666666666666666)\n",
      "#England to get 5 points at the World Cup at 9/1 with @McBookie\n",
      "Not a stick on but could see a win and a draw with… https://t.co/HaWFDCUzvG\n",
      "Sentiment(polarity=0.8, subjectivity=0.4)\n",
      "#riskfree £20 #bet &gt; https://t.co/jvwleWWbJe #horsetips #darts  #freebet #worldcup #skybet #euros #footy https://t.co/lmkNYvgbsz\n",
      "Sentiment(polarity=0.0, subjectivity=0.0)\n",
      "RT @FIFAWorldCup: The first of our semi-finals sees two South American giants clash...\n",
      "\n",
      "🇦🇷@Argentina's champions from 1986?\n",
      "OR\n",
      "🇺🇾@Uruguay's…\n",
      "Sentiment(polarity=0.125, subjectivity=0.16666666666666666)\n",
      "RT @FIFAWorldCup: On Saturday, @hazardeden10 scored from the penalty spot to win the @EmiratesFACup for @ChelseaFC!🏆\n",
      "\n",
      "Will we see him play…\n",
      "Sentiment(polarity=0.8, subjectivity=0.4)\n",
      "RT @FIFAWorldCup: The Mordovia Arena in Saransk😮😍\n",
      "\n",
      "16 June: 🇵🇪🇩🇰 #PERDEN\n",
      "19 June: 🇨🇴🇯🇵 #COLJPN\n",
      "25 June: 🇮🇷🇵🇹 #IRNPOR\n",
      "28 June: 🇵🇦🇹🇳 #PANTUN…\n",
      "Sentiment(polarity=0.0, subjectivity=0.0)\n",
      "Sezonun ilk yarışı olarak Dünya Kupasıyla başladık, Eksikliklerimizi ve hatalarımızı gördük. Bundan sonraki asıl he… https://t.co/8swK11WVvd\n",
      "Sentiment(polarity=0.0, subjectivity=0.0)\n",
      "RT @1_Muslera_25: Buen triunfo 🇺🇾 !! A seguir la preparación !! #worldcup #2018 https://t.co/1G75wEIYFv\n",
      "Sentiment(polarity=0.0, subjectivity=0.0)\n",
      "RT @EASPORTSFIFA: Can the Verde-Amarela right the wrongs of 2014? 🔥 Neymar, Marcelo and the Seleção 🇧🇷 are next in the #WorldCup Ratings Re…\n",
      "Sentiment(polarity=0.14285714285714285, subjectivity=0.26785714285714285)\n",
      "RT @FIFAWorldCup: The first of our semi-finals sees two South American giants clash...\n",
      "\n",
      "🇦🇷@Argentina's champions from 1986?\n",
      "OR\n",
      "🇺🇾@Uruguay's…\n",
      "Sentiment(polarity=0.125, subjectivity=0.16666666666666666)\n",
      "RT @ricbpereira: Muito feliz e orgulhoso estar entre os convocados para o mundial! #portugal #selecao #copadomundo #WorldCup #WorldCup2018…\n",
      "Sentiment(polarity=0.0, subjectivity=0.0)\n",
      "RT @FOXSports: Ready to go from watching the oldest club soccer competition straight to the BIGGEST and most PRESTIGIOUS tournament there i…\n",
      "Sentiment(polarity=0.3, subjectivity=0.4666666666666666)\n",
      "2️⃣6️⃣days until the start of the #Russia2018 FIFA #WorldCup.\n",
      "\n",
      "Which country has won the second most number of Worl… https://t.co/W01a7XuEWg\n",
      "Sentiment(polarity=0.25, subjectivity=0.25)\n",
      "RT @FIFAWorldCup: #Ramadan Mubarek to all!\n",
      "\n",
      "Fans in 🇪🇬Cairo are bringing that #WorldCup feeling to their fasting 🙌 https://t.co/0RTswGa6UR\n",
      "Sentiment(polarity=0.0, subjectivity=0.0)\n"
     ]
    }
   ],
   "source": [
    "public_tweets = api.search('Worldcup')\n",
    "\n",
    "for tweet in public_tweets:\n",
    "    print(tweet.text)\n",
    "    analysis = TextBlob(tweet.text)\n",
    "    print(analysis.sentiment)"
   ]
  },
  {
   "cell_type": "code",
   "execution_count": null,
   "metadata": {
    "collapsed": true
   },
   "outputs": [],
   "source": []
  }
 ],
 "metadata": {
  "kernelspec": {
   "display_name": "Python 3",
   "language": "python",
   "name": "python3"
  },
  "language_info": {
   "codemirror_mode": {
    "name": "ipython",
    "version": 3
   },
   "file_extension": ".py",
   "mimetype": "text/x-python",
   "name": "python",
   "nbconvert_exporter": "python",
   "pygments_lexer": "ipython3",
   "version": "3.6.3"
  }
 },
 "nbformat": 4,
 "nbformat_minor": 2
}
